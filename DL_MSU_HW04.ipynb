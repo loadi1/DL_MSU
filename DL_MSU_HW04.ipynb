{
  "cells": [
    {
      "cell_type": "markdown",
      "metadata": {
        "id": "FgzQ5bscUnsm"
      },
      "source": [
        "# Домашнее задание №4\n",
        "\n",
        "##### Автор: [Татьяна Гайнцева](https://www.linkedin.com/in/tgaintseva/), @atmyre"
      ]
    },
    {
      "cell_type": "code",
      "execution_count": null,
      "metadata": {
        "id": "dlo1UHiNUnsp"
      },
      "outputs": [],
      "source": [
        "import numpy as np\n",
        "\n",
        "import torch\n",
        "from torch import nn\n",
        "from torch.nn import functional as F\n",
        "\n",
        "import torchvision\n",
        "from torchvision import datasets, transforms\n",
        "\n",
        "from matplotlib import pyplot as plt\n",
        "from IPython.display import clear_output"
      ]
    },
    {
      "cell_type": "markdown",
      "source": [
        "Это домашнее задание состоит из двух частей. В первой части вам нужно реализовать правильную архитектуру сверточной нейросети. Во второй части — подобрать хорошую архитектуру и обучить ее на датасете CIFAR так, чтобы результаты метрики accuracy на тестовой части CIFAR были больше 60%"
      ],
      "metadata": {
        "id": "vdRDK1t0Wgxy"
      }
    },
    {
      "cell_type": "markdown",
      "source": [
        "## Задача №1:\n",
        "В этом задании вам нужно заполнить пропуски в ячейке ниже, чтобы получилась сверточная нейросеть с заданными параметрами."
      ],
      "metadata": {
        "id": "GmVeuJosbxFD"
      }
    },
    {
      "cell_type": "markdown",
      "source": [
        "Архитектура сети:\n",
        "**conv1 -> maxpool1 -> conv2 -> maxpool2 -> flatten -> fc1 -> fc2**\n",
        "\n",
        "- conv1: 3 фильтра размера (5, 5);\n",
        "- maxpool1: ядро размера 2;\n",
        "- conv2: 5 фильтров размера (3, 3);\n",
        "- maxpool2: ядро размера 2;\n",
        "- fc1: 100 нейронов на выходе;\n",
        "- fc2: 10 нейронов на выходе.\n",
        "\n",
        "После сверточных слоев и первого полносвязного слоя нужно применить функцию активации ReLU. **Важно:** для успешной сдачи задания функция активации должна быть применена с помощью F.ReLU (не с помощью nn.ReLU).\n",
        "\n",
        "**Нейросеть должна работать с изображениями размера 32х32. Никакие дополнительные параметры слоев, кроме указанных выше, задавать не нужно**."
      ],
      "metadata": {
        "id": "QwGlvTT-b5tW"
      }
    },
    {
      "cell_type": "code",
      "source": [
        "class ConvNet(nn.Module):\n",
        "    def __init__(self):\n",
        "        super().__init__()\n",
        "\n",
        "        self.conv1 = nn.Conv2d(in_channels=3, out_channels=3, kernel_size=(5,5))\n",
        "        self.pool1 = nn.MaxPool2d(kernel_size=(2,2))\n",
        "        self.conv2 = nn.Conv2d(in_channels=3, out_channels=5, kernel_size=(3,3))\n",
        "        self.pool2 = nn.MaxPool2d(kernel_size=(2,2))\n",
        "\n",
        "        self.flatten = nn.Flatten()\n",
        "\n",
        "        self.fc1 = nn.Linear(5*6*6, 100, bias=True)\n",
        "        self.fc2 = nn.Linear(100, 10,  bias=True)\n",
        "\n",
        "\n",
        "    def forward(self, x):\n",
        "        # размерность х ~ [64, 3, 32, 32]\n",
        "\n",
        "        x = F.relu(self.conv1(x)) # x ~ 28x28\n",
        "        x = self.pool1(x) # x ~ 14x14\n",
        "        x = F.relu(self.conv2(x)) # x ~ 12*12\n",
        "        x = self.pool2(x) # x ~ 6x6\n",
        "\n",
        "        x = self.flatten(x)\n",
        "\n",
        "        x = F.relu(self.fc1(x))\n",
        "        x = self.fc2(x)\n",
        "\n",
        "        return x"
      ],
      "metadata": {
        "id": "zEQy7-AEb9--"
      },
      "execution_count": null,
      "outputs": []
    },
    {
      "cell_type": "markdown",
      "source": [
        "### Проверка"
      ],
      "metadata": {
        "id": "0nouGfm_gDFD"
      }
    },
    {
      "cell_type": "markdown",
      "source": [
        "Ячейки ниже помогут проверить, что модель написана и работает правильно."
      ],
      "metadata": {
        "id": "TMWATEWKgFgp"
      }
    },
    {
      "cell_type": "code",
      "source": [
        "# Эта ячейка не должна выдавать ошибку.\n",
        "# Если при исполнении ячейки возникает ошибка, то в вашей реализации нейросети есть баги.\n",
        "img = torch.Tensor(np.random.random((32, 3, 32, 32)))\n",
        "model = ConvNet()\n",
        "out = model(img)"
      ],
      "metadata": {
        "id": "xVbCt6AffvNp"
      },
      "execution_count": null,
      "outputs": []
    },
    {
      "cell_type": "markdown",
      "source": [
        "Ячейка ниже проверяет, что устройство сети верное."
      ],
      "metadata": {
        "id": "HmVRmDEfgdoH"
      }
    },
    {
      "cell_type": "code",
      "source": [
        "# conv1\n",
        "assert model.conv1.kernel_size == (5, 5), \"неверный размер ядра у conv1\"\n",
        "assert model.conv1.in_channels == 3, \"неверный размер in_channels у conv1\"\n",
        "assert model.conv1.out_channels == 3, \"неверный размер out_channels у conv1\"\n",
        "\n",
        "# pool1\n",
        "assert model.pool1.kernel_size == (2, 2), \"неверный размер ядра у pool1\"\n",
        "\n",
        "# conv2\n",
        "assert model.conv2.kernel_size == (3, 3), \"неверный размер ядра у conv2\"\n",
        "assert model.conv2.in_channels == 3, \"неверный размер in_channels у conv2\"\n",
        "assert model.conv2.out_channels == 5, \"неверный размер out_channels у conv2\"\n",
        "\n",
        "# pool2\n",
        "assert model.pool1.kernel_size == (2, 2), \"неверный размер ядра у pool2\"\n",
        "\n",
        "# fc1\n",
        "assert model.fc1.out_features == 100, \"неверный размер out_features у fc1\"\n",
        "# fc2\n",
        "assert model.fc2.out_features == 10, \"неверный размер out_features у fc2\""
      ],
      "metadata": {
        "id": "iZ_t7mCDesVU"
      },
      "execution_count": null,
      "outputs": []
    },
    {
      "cell_type": "markdown",
      "source": [
        "### Сдача задания"
      ],
      "metadata": {
        "id": "dtKvuJRHqM_d"
      }
    },
    {
      "cell_type": "markdown",
      "source": [
        "Если обе ячейки отработали без ошибок, можно сдавать задание в первую задачу на Я.Контесте.\n",
        "Для этого нужно скопировать класс ConvNet в нужное место в `submission_template04.py` и отправить `submission_template04.py` в Я.Контест."
      ],
      "metadata": {
        "id": "QybQ4rtQgppH"
      }
    },
    {
      "cell_type": "markdown",
      "metadata": {
        "id": "obC9bnWsUnsr"
      },
      "source": [
        "## Задача №2:\n",
        "Вернемся к задаче классификации картинок [CIFAR](https://www.cs.toronto.edu/~kriz/cifar.html).\n",
        "\n",
        "__Ваша основная задача: реализовать весь пайплан обучения модели и добиться хорошего значения метрики accuracy на тестовой выборке.__\n",
        "Баллы за задание:\n",
        "- **0**, если accuracy на тестовой выборке <0.5;\n",
        "- **0.5**, если accuracy на тестовой выборке >0.5 и <0.6;\n",
        "- **1**, если accuracy на тестовой выборке >0.6;\n",
        "\n",
        "Код для обучения модели в данном задании полностью реализован. Вам нужно лишь написать код класса нейросети и поэкспериментировать с параметрами так, чтобы получить хорошее качество. В качестве основы архитектуры сети можно взять сеть из задачи №1."
      ]
    },
    {
      "cell_type": "markdown",
      "source": [
        "**! Перед выполнением этого задания рекомендуем включить GPU в настройках колаба.** Это поможет обучать нейросеть быстрее.\n",
        "\n",
        "Чтобы включить GPU, перейдите Edit->Notebook settings и выберите Hardware accelerator=GPU. Нажмите save."
      ],
      "metadata": {
        "id": "izGM3kjrhbCk"
      }
    },
    {
      "cell_type": "code",
      "source": [
        "import numpy as np\n",
        "\n",
        "import torch\n",
        "from torch import nn\n",
        "from torch.nn import functional as F\n",
        "\n",
        "import torchvision\n",
        "from torchvision import datasets, transforms\n",
        "\n",
        "from matplotlib import pyplot as plt\n",
        "from IPython.display import clear_output"
      ],
      "metadata": {
        "id": "ZUgd4OiDh4EP"
      },
      "execution_count": null,
      "outputs": []
    },
    {
      "cell_type": "markdown",
      "source": [
        "### Загрузка данных"
      ],
      "metadata": {
        "id": "i5VkRn8eYCL3"
      }
    },
    {
      "cell_type": "markdown",
      "source": [
        "Код загрузки данных тот же, что был на занятии. Менять ничего не нужно."
      ],
      "metadata": {
        "id": "w5-HED1XYV96"
      }
    },
    {
      "cell_type": "code",
      "execution_count": null,
      "metadata": {
        "id": "-31e0aCCUnss",
        "colab": {
          "base_uri": "https://localhost:8080/"
        },
        "outputId": "67455d1f-c9bd-47a7-fce3-9032df239bf8"
      },
      "outputs": [
        {
          "output_type": "stream",
          "name": "stdout",
          "text": [
            "Downloading https://www.cs.toronto.edu/~kriz/cifar-10-python.tar.gz to ./cifar10_data/cifar-10-python.tar.gz\n"
          ]
        },
        {
          "output_type": "stream",
          "name": "stderr",
          "text": [
            "100%|██████████| 170498071/170498071 [00:03<00:00, 45271399.34it/s]\n"
          ]
        },
        {
          "output_type": "stream",
          "name": "stdout",
          "text": [
            "Extracting ./cifar10_data/cifar-10-python.tar.gz to ./cifar10_data\n",
            "Files already downloaded and verified\n"
          ]
        }
      ],
      "source": [
        "# загружаем датасет из torchvision\n",
        "train_data = datasets.CIFAR10(root=\"./cifar10_data\", train=True, download=True, transform=transforms.ToTensor())\n",
        "test_data = datasets.CIFAR10(root=\"./cifar10_data\", train=False, download=True, transform=transforms.ToTensor())\n",
        "\n",
        "# делим тренировочную часть на train и val\n",
        "\n",
        "# в тренировочную выборку отнесем 80% всех картинок\n",
        "train_size = int(len(train_data) * 0.8)\n",
        "# в валидационную — остальные 20%\n",
        "val_size = len(train_data) - train_size\n",
        "\n",
        "train_data, val_data = torch.utils.data.random_split(train_data, [train_size, val_size])\n",
        "\n",
        "# заводим даталоадеры, которые будут генерировать батчи\n",
        "train_loader = torch.utils.data.DataLoader(train_data, batch_size=64, shuffle=True)\n",
        "val_loader = torch.utils.data.DataLoader(val_data, batch_size=64, shuffle=False)\n",
        "test_loader = torch.utils.data.DataLoader(test_data, batch_size=64, shuffle=False)"
      ]
    },
    {
      "cell_type": "markdown",
      "source": [
        "Посмотрим на несколько картинок из датасета:"
      ],
      "metadata": {
        "id": "3xJCM2lZYjtR"
      }
    },
    {
      "cell_type": "code",
      "source": [
        "# функция отрисовки картинок\n",
        "def show_images(images, labels):\n",
        "    f, axes= plt.subplots(1, 10, figsize=(30,5))\n",
        "\n",
        "    for i, axis in enumerate(axes):\n",
        "        # переводим картинку из тензора в numpy\n",
        "        img = images[i].numpy()\n",
        "        # переводим картинку в размерность (длина, ширина, цветовые каналы)\n",
        "        img = np.transpose(img, (1, 2, 0))\n",
        "\n",
        "        axes[i].imshow(img)\n",
        "        axes[i].set_title(labels[i].numpy())\n",
        "\n",
        "    plt.show()\n",
        "\n",
        "# получаем батч картинок\n",
        "for batch in train_loader:\n",
        "    images, labels = batch\n",
        "    break\n",
        "\n",
        "show_images(images, labels)"
      ],
      "metadata": {
        "id": "R7ZBNxsLYvMP",
        "colab": {
          "base_uri": "https://localhost:8080/",
          "height": 135
        },
        "outputId": "c7f25383-ae5c-4dad-a57d-c9e90f584fa8"
      },
      "execution_count": null,
      "outputs": [
        {
          "output_type": "display_data",
          "data": {
            "text/plain": [
              "<Figure size 3000x500 with 10 Axes>"
            ],
            "image/png": "[encoded data removed]"
          },
          "metadata": {}
        }
      ]
    },
    {
      "cell_type": "markdown",
      "source": [
        "### Построение модели"
      ],
      "metadata": {
        "id": "EAbF9VCHifUg"
      }
    },
    {
      "cell_type": "markdown",
      "metadata": {
        "id": "ZN-AYLsyUnsu"
      },
      "source": [
        "Ниже — ячейка для построения модели. Не стоит сразу делать большую и сложную модель с большим количеством слоев: такая сеть будет обучаться очень долго и, скорее всего, переобучится.\n",
        "\n",
        "Ваша основная задача – обучить модель и получить качество на отложенной (тестовой выборке) не менее 60% accuracy.\n",
        "\n",
        "__Внимание: ваша модель должна быть представлена именно переменной `model`.__"
      ]
    },
    {
      "cell_type": "markdown",
      "source": [
        "Идеи, что можно попробовать, чтобы улучшить результат сети:\n",
        "\n",
        "- попробовать разное количество сверточных и полносвязных слоев;\n",
        "- попробовать разное количество фильтров в сверточных слоях;\n",
        "- попробовать разное количество нейронов в скрытых полносвязных слоях;\n",
        "- попробовать добавить BatchNorm, как после полносвязных, так и после сверточных слоев. Обратите внимание, что для сверточных слоев используется [nn.BatchNorm2d](https://pytorch.org/docs/stable/generated/torch.nn.BatchNorm2d.html). Аргумент num_features равен количеству фильтров (out_channels) сверточного слоя;\n",
        "- попробовать добавить/убрать max_pooling;\n",
        "- поменять learning_rate;\n",
        "- обучать сеть большее количество эпох.\n",
        "\n",
        "Если ваша модель переобучается (метрика на валидации нацинает становиться хуже), попробуйте уменьшить количество параметров модели. Если модель не переобучается, но показывает плохой результат, попробуйте увеличить количество параметров модели."
      ],
      "metadata": {
        "id": "QFaM1UeWaE4K"
      }
    },
    {
      "cell_type": "code",
      "execution_count": null,
      "metadata": {
        "id": "3UyozaPnUnsu"
      },
      "outputs": [],
      "source": [
        "class ConvNet(nn.Module):\n",
        "    def __init__(self):\n",
        "        super().__init__()\n",
        "\n",
        "                                                                                 # 32*32\n",
        "        self.conv1 = nn.Conv2d(in_channels=3, out_channels=9, kernel_size=(3,3)) # 30*30\n",
        "        self.bn2d1 = nn.BatchNorm2d(9)\n",
        "\n",
        "        self.conv2 = nn.Conv2d(in_channels=9, out_channels=9, kernel_size=(5,5)) # 26*26\n",
        "        self.bn2d2 = nn.BatchNorm2d(9)\n",
        "\n",
        "        self.conv3 = nn.Conv2d(in_channels=9, out_channels=6, kernel_size=(3,3)) # 24*24\n",
        "        self.pool3 = nn.MaxPool2d(kernel_size=(2,2)) # 12*12\n",
        "        self.bn2d3 = nn.BatchNorm2d(6)\n",
        "\n",
        "        self.conv4 = nn.Conv2d(in_channels=6, out_channels=6, kernel_size=(3,3)) # 10*10\n",
        "        self.pool4 = nn.MaxPool2d(kernel_size=(2,2)) #5*5\n",
        "        self.bn2d4 = nn.BatchNorm2d(6)\n",
        "\n",
        "        self.flatten = nn.Flatten()\n",
        "\n",
        "        self.fc1 = nn.Linear(6*5*5, 100, bias=True)\n",
        "        self.bn1 = nn.BatchNorm1d(100)\n",
        "        self.fc2 = nn.Linear(100, 50, bias=True)\n",
        "        self.bn2 = nn.BatchNorm1d(50)\n",
        "        self.fc3 = nn.Linear(50, 10,  bias=True)\n",
        "\n",
        "\n",
        "    def forward(self, x):\n",
        "        # размерность х ~ [64, 3, 32, 32]\n",
        "\n",
        "        x = F.relu(self.conv1(x))\n",
        "        x = self.bn2d1(x)\n",
        "\n",
        "        x = F.relu(self.conv2(x))\n",
        "        x = self.bn2d2(x)\n",
        "\n",
        "        x = F.relu(self.conv3(x))\n",
        "        x = self.pool3(x)\n",
        "        x = self.bn2d3(x)\n",
        "\n",
        "        x = F.relu(self.conv4(x))\n",
        "        x = self.pool4(x)\n",
        "        x = self.bn2d4(x)\n",
        "\n",
        "        x = self.flatten(x)\n",
        "\n",
        "        x = F.relu(self.fc1(x))\n",
        "        x = self.bn1(x)\n",
        "        x = F.relu(self.fc2(x))\n",
        "        x = self.bn2(x)\n",
        "        x = self.fc3(x)\n",
        "\n",
        "        return x"
      ]
    },
    {
      "cell_type": "code",
      "source": [
        "model = ConvNet()"
      ],
      "metadata": {
        "id": "MFpILkiXhEz-"
      },
      "execution_count": null,
      "outputs": []
    },
    {
      "cell_type": "markdown",
      "source": [
        "Ячейка ниже проверяет, доступен ли GPU и если да, то переносит нейросеть на GPU."
      ],
      "metadata": {
        "id": "1reimxeCh9BA"
      }
    },
    {
      "cell_type": "code",
      "source": [
        "device = torch.device(\"cuda\" if torch.cuda.is_available() else \"cpu\")\n",
        "model = model.to(device)\n",
        "print(device)"
      ],
      "metadata": {
        "id": "keaqEK3ug9rd",
        "colab": {
          "base_uri": "https://localhost:8080/"
        },
        "outputId": "ebed242c-6e67-4fdc-ed76-a6ab57998a83"
      },
      "execution_count": null,
      "outputs": [
        {
          "output_type": "stream",
          "name": "stdout",
          "text": [
            "cuda\n"
          ]
        }
      ]
    },
    {
      "cell_type": "markdown",
      "source": [
        "### Обучение модели"
      ],
      "metadata": {
        "id": "iKghv45uiEqo"
      }
    },
    {
      "cell_type": "markdown",
      "metadata": {
        "id": "b2onmgyzUntQ"
      },
      "source": [
        "Функция обучения сети (ее менять не нужно).\n",
        "\n",
        "Функция выводит текущие значения лосса и accuracy на train выборке каждые 50 итераций обучения. Также после каждой эпохи считается и выводится лосс и accuracy на val выборке. По этим значениям можно понимать, как хорошо обучается ваша модель."
      ]
    },
    {
      "cell_type": "code",
      "execution_count": null,
      "metadata": {
        "id": "jYsRSxVjUntR"
      },
      "outputs": [],
      "source": [
        "def evaluate(model, dataloader, loss_fn):\n",
        "\n",
        "    losses = []\n",
        "\n",
        "    num_correct = 0\n",
        "    num_elements = 0\n",
        "\n",
        "    for i, batch in enumerate(dataloader):\n",
        "\n",
        "        # так получаем текущий батч\n",
        "        X_batch, y_batch = batch\n",
        "        num_elements += len(y_batch)\n",
        "\n",
        "        with torch.no_grad():\n",
        "            logits = model(X_batch.to(device))\n",
        "\n",
        "            loss = loss_fn(logits, y_batch.to(device))\n",
        "            losses.append(loss.item())\n",
        "\n",
        "            y_pred = torch.argmax(logits, dim=1)\n",
        "\n",
        "            num_correct += torch.sum(y_pred.cpu() == y_batch)\n",
        "\n",
        "    accuracy = num_correct / num_elements\n",
        "\n",
        "    return accuracy.numpy(), np.mean(losses)\n",
        "\n",
        "def train(model, loss_fn, optimizer, n_epoch=3):\n",
        "\n",
        "    # цикл обучения сети\n",
        "    for epoch in range(n_epoch):\n",
        "\n",
        "        print(\"Epoch:\", epoch+1)\n",
        "\n",
        "        model.train(True)\n",
        "\n",
        "        running_losses = []\n",
        "        running_accuracies = []\n",
        "        for i, batch in enumerate(train_loader):\n",
        "            # так получаем текущий батч\n",
        "            X_batch, y_batch = batch\n",
        "\n",
        "            # forward pass (получение ответов на батч картинок)\n",
        "            logits = model(X_batch.to(device))\n",
        "\n",
        "            # вычисление лосса от выданных сетью ответов и правильных ответов на батч\n",
        "            loss = loss_fn(logits, y_batch.to(device))\n",
        "            running_losses.append(loss.item())\n",
        "\n",
        "            loss.backward() # backpropagation (вычисление градиентов)\n",
        "            optimizer.step() # обновление весов сети\n",
        "            optimizer.zero_grad() # обнуляем веса\n",
        "\n",
        "            # вычислим accuracy на текущем train батче\n",
        "            model_answers = torch.argmax(logits, dim=1)\n",
        "            train_accuracy = torch.sum(y_batch == model_answers.cpu()) / len(y_batch)\n",
        "            running_accuracies.append(train_accuracy)\n",
        "\n",
        "            # Логирование результатов\n",
        "            if (i+1) % 100 == 0:\n",
        "                print(\"Средние train лосс и accuracy на последних 50 итерациях:\",\n",
        "                      np.mean(running_losses), np.mean(running_accuracies), end='\\n')\n",
        "\n",
        "        # после каждой эпохи получаем метрику качества на валидационной выборке\n",
        "        model.train(False)\n",
        "\n",
        "        val_accuracy, val_loss = evaluate(model, val_loader, loss_fn=loss_fn)\n",
        "        print(\"Эпоха {}/{}: val лосс и accuracy:\".format(epoch+1, n_epoch,),\n",
        "                      val_loss, val_accuracy, end='\\n')\n",
        "\n",
        "    return model"
      ]
    },
    {
      "cell_type": "markdown",
      "source": [
        "Запускаем обучение."
      ],
      "metadata": {
        "id": "qEBr1qTOjfo3"
      }
    },
    {
      "cell_type": "code",
      "source": [
        "# снова объявим модель\n",
        "model = ConvNet()\n",
        "device = torch.device(\"cuda\" if torch.cuda.is_available() else \"cpu\")\n",
        "model = model.to(device)\n",
        "\n",
        "# выбираем функцию потерь\n",
        "loss_fn = torch.nn.CrossEntropyLoss()\n",
        "\n",
        "# выбираем алгоритм оптимизации и learning_rate.\n",
        "# вы можете экспериментировать с разными значениями learning_rate\n",
        "learning_rate = 1e-3\n",
        "optimizer = torch.optim.Adam(model.parameters(), lr=learning_rate)"
      ],
      "metadata": {
        "id": "KYqzqj02jZly"
      },
      "execution_count": null,
      "outputs": []
    },
    {
      "cell_type": "code",
      "source": [
        "# запустим обучение модели\n",
        "# параметр n_epoch можно варьировать\n",
        "model = train(model, loss_fn, optimizer, n_epoch=12)"
      ],
      "metadata": {
        "id": "QMgy5EGsnEZt",
        "colab": {
          "base_uri": "https://localhost:8080/"
        },
        "outputId": "32ab4839-30ba-4b6b-efe9-826bc7fb6f54"
      },
      "execution_count": null,
      "outputs": [
        {
          "output_type": "stream",
          "name": "stdout",
          "text": [
            "Epoch: 1\n",
            "Средние train лосс и accuracy на последних 50 итерациях: 1.9541820347309113 0.2859375\n",
            "Средние train лосс и accuracy на последних 50 итерациях: 1.8256688690185547 0.329375\n",
            "Средние train лосс и accuracy на последних 50 итерациях: 1.7409035301208495 0.36041668\n",
            "Средние train лосс и accuracy на последних 50 итерациях: 1.6831490856409073 0.38261718\n",
            "Средние train лосс и accuracy на последних 50 итерациях: 1.6381265625953674 0.40090626\n",
            "Средние train лосс и accuracy на последних 50 итерациях: 1.6050959199666976 0.4138021\n",
            "Эпоха 1/12: val лосс и accuracy: 1.4820915756711535 0.4686\n",
            "Epoch: 2\n",
            "Средние train лосс и accuracy на последних 50 итерациях: 1.3841735959053039 0.5059375\n",
            "Средние train лосс и accuracy на последних 50 итерациях: 1.366219800710678 0.50703126\n",
            "Средние train лосс и accuracy на последних 50 итерациях: 1.3585986924171447 0.5078646\n",
            "Средние train лосс и accuracy на последних 50 итерациях: 1.3502175772190095 0.51097655\n",
            "Средние train лосс и accuracy на последних 50 итерациях: 1.3372010749578476 0.51690626\n",
            "Средние train лосс и accuracy на последних 50 итерациях: 1.328052820265293 0.52091146\n",
            "Эпоха 2/12: val лосс и accuracy: 1.2395507704680133 0.5559\n",
            "Epoch: 3\n",
            "Средние train лосс и accuracy на последних 50 итерациях: 1.236967640519142 0.5471875\n",
            "Средние train лосс и accuracy на последних 50 итерациях: 1.2236938777565955 0.55640626\n",
            "Средние train лосс и accuracy на последних 50 итерациях: 1.2200398371616998 0.55880207\n",
            "Средние train лосс и accuracy на последних 50 итерациях: 1.2204419852793216 0.5608594\n",
            "Средние train лосс и accuracy на последних 50 итерациях: 1.2182462686300277 0.5615625\n",
            "Средние train лосс и accuracy на последних 50 итерациях: 1.2101130932569504 0.56614584\n",
            "Эпоха 3/12: val лосс и accuracy: 1.1605879387278466 0.5867\n",
            "Epoch: 4\n",
            "Средние train лосс и accuracy на последних 50 итерациях: 1.1414382761716844 0.58671874\n",
            "Средние train лосс и accuracy на последних 50 итерациях: 1.131181772351265 0.5960938\n",
            "Средние train лосс и accuracy на последних 50 итерациях: 1.1249891326824824 0.5985938\n",
            "Средние train лосс и accuracy на последних 50 итерациях: 1.1261174833774568 0.5992187\n",
            "Средние train лосс и accuracy на последних 50 итерациях: 1.1297143771648408 0.597375\n",
            "Средние train лосс и accuracy на последних 50 итерациях: 1.1272684601942697 0.5979427\n",
            "Эпоха 4/12: val лосс и accuracy: 1.0943229468005478 0.6109\n",
            "Epoch: 5\n",
            "Средние train лосс и accuracy на последних 50 итерациях: 1.0651679283380509 0.615\n",
            "Средние train лосс и accuracy на последних 50 итерациях: 1.0689434486627578 0.6164844\n",
            "Средние train лосс и accuracy на последних 50 итерациях: 1.0656658393144607 0.61838543\n",
            "Средние train лосс и accuracy на последних 50 итерациях: 1.0619798873364925 0.6189453\n",
            "Средние train лосс и accuracy на последних 50 итерациях: 1.065251692056656 0.6173437\n",
            "Средние train лосс и accuracy на последних 50 итерациях: 1.0622838194171587 0.6186719\n",
            "Эпоха 5/12: val лосс и accuracy: 1.0738087547053197 0.6245\n",
            "Epoch: 6\n",
            "Средние train лосс и accuracy на последних 50 итерациях: 0.9922606718540191 0.65046877\n",
            "Средние train лосс и accuracy на последних 50 итерациях: 1.0080720317363738 0.64289063\n",
            "Средние train лосс и accuracy на последних 50 итерациях: 1.0116060280799866 0.6409375\n",
            "Средние train лосс и accuracy на последних 50 итерациях: 1.0147461108863354 0.6415625\n",
            "Средние train лосс и accuracy на последних 50 итерациях: 1.0118417925834655 0.64215624\n",
            "Средние train лосс и accuracy на последних 50 итерациях: 1.01390148828427 0.6413021\n",
            "Эпоха 6/12: val лосс и accuracy: 1.0774477913880804 0.6227\n",
            "Epoch: 7\n",
            "Средние train лосс и accuracy на последних 50 итерациях: 0.9706828308105468 0.65421873\n",
            "Средние train лосс и accuracy на последних 50 итерациях: 0.970418767631054 0.6546094\n",
            "Средние train лосс и accuracy на последних 50 итерациях: 0.9706459756692251 0.6541146\n",
            "Средние train лосс и accuracy на последних 50 итерациях: 0.9734370744228363 0.6536328\n",
            "Средние train лосс и accuracy на последних 50 итерациях: 0.973498568892479 0.65325\n",
            "Средние train лосс и accuracy на последних 50 итерациях: 0.9829659284154574 0.6498698\n",
            "Эпоха 7/12: val лосс и accuracy: 1.034249039592257 0.6376\n",
            "Epoch: 8\n",
            "Средние train лосс и accuracy на последних 50 итерациях: 0.9425120007991791 0.66359377\n",
            "Средние train лосс и accuracy на последних 50 итерациях: 0.9477608653903008 0.6615625\n",
            "Средние train лосс и accuracy на последних 50 итерациях: 0.9550267068545023 0.66057295\n",
            "Средние train лосс и accuracy на последних 50 итерациях: 0.9588857509195805 0.65898436\n",
            "Средние train лосс и accuracy на последних 50 итерациях: 0.9551151076555252 0.6593125\n",
            "Средние train лосс и accuracy на последних 50 итерациях: 0.9528073360522588 0.6606771\n",
            "Эпоха 8/12: val лосс и accuracy: 1.0105740834193624 0.6466\n",
            "Epoch: 9\n",
            "Средние train лосс и accuracy на последних 50 итерациях: 0.9038869589567184 0.6773437\n",
            "Средние train лосс и accuracy на последних 50 итерациях: 0.915769888162613 0.6767188\n",
            "Средние train лосс и accuracy на последних 50 итерациях: 0.9174488886197408 0.6770313\n",
            "Средние train лосс и accuracy на последних 50 итерациях: 0.9214121748507023 0.67519534\n",
            "Средние train лосс и accuracy на последних 50 итерациях: 0.9220134797096252 0.67490625\n",
            "Средние train лосс и accuracy на последних 50 итерациях: 0.9212059383591016 0.67398435\n",
            "Эпоха 9/12: val лосс и accuracy: 0.9884219955486856 0.6558\n",
            "Epoch: 10\n",
            "Средние train лосс и accuracy на последних 50 итерациях: 0.8769873374700546 0.6890625\n",
            "Средние train лосс и accuracy на последних 50 итерациях: 0.8890246635675431 0.68476564\n",
            "Средние train лосс и accuracy на последних 50 итерациях: 0.8887526762485504 0.6821354\n",
            "Средние train лосс и accuracy на последних 50 итерациях: 0.8915091849863529 0.6828125\n",
            "Средние train лосс и accuracy на последних 50 итерациях: 0.8933180646896363 0.682\n",
            "Средние train лосс и accuracy на последних 50 итерациях: 0.8968642838795979 0.6813021\n",
            "Эпоха 10/12: val лосс и accuracy: 1.007929164892549 0.6507\n",
            "Epoch: 11\n",
            "Средние train лосс и accuracy на последних 50 итерациях: 0.8392042446136475 0.70109373\n",
            "Средние train лосс и accuracy на последних 50 итерациях: 0.8544751769304275 0.698125\n",
            "Средние train лосс и accuracy на последних 50 итерациях: 0.867504996061325 0.6923438\n",
            "Средние train лосс и accuracy на последних 50 итерациях: 0.8736806485056877 0.69199216\n",
            "Средние train лосс и accuracy на последних 50 итерациях: 0.8751724135875701 0.69153124\n",
            "Средние train лосс и accuracy на последних 50 итерациях: 0.8783130467931429 0.6897917\n",
            "Эпоха 11/12: val лосс и accuracy: 0.9949737100084876 0.6563\n",
            "Epoch: 12\n",
            "Средние train лосс и accuracy на последних 50 итерациях: 0.8611421644687652 0.6951563\n",
            "Средние train лосс и accuracy на последних 50 итерациях: 0.8601935592293739 0.6929687\n",
            "Средние train лосс и accuracy на последних 50 итерациях: 0.8567514799038569 0.69380206\n",
            "Средние train лосс и accuracy на последних 50 итерациях: 0.8544423016160727 0.69464844\n",
            "Средние train лосс и accuracy на последних 50 итерациях: 0.8574744572043419 0.6938125\n",
            "Средние train лосс и accuracy на последних 50 итерациях: 0.8583034384747347 0.6941927\n",
            "Эпоха 12/12: val лосс и accuracy: 0.9837829550360419 0.6571\n"
          ]
        }
      ]
    },
    {
      "cell_type": "markdown",
      "source": [
        "### Получение метрики качества на тестовой выборке"
      ],
      "metadata": {
        "id": "J-0bg_d9mQJc"
      }
    },
    {
      "cell_type": "code",
      "execution_count": null,
      "metadata": {
        "id": "5fdsfmmGUntS",
        "colab": {
          "base_uri": "https://localhost:8080/"
        },
        "outputId": "e4d34c7b-57fd-4ae3-dd87-a79aa6c0fbe9"
      },
      "outputs": [
        {
          "output_type": "stream",
          "name": "stdout",
          "text": [
            "Accuracy на тесте 0.6501\n"
          ]
        }
      ],
      "source": [
        "test_accuracy, _ = evaluate(model, test_loader, loss_fn)\n",
        "print('Accuracy на тесте', test_accuracy)"
      ]
    },
    {
      "cell_type": "markdown",
      "source": [
        "Вы можете экспериментировать с разным устройством архитектуры нейросети и запускать ее обучение и проверять accuracy на тесте с помощью трех ячеек выше. Когда вы получили нужное значение accuracy на тесте, можете сдавать задание на Я.Контест."
      ],
      "metadata": {
        "id": "mTWg3rx7oigY"
      }
    },
    {
      "cell_type": "markdown",
      "metadata": {
        "id": "s1lUTTanUntT"
      },
      "source": [
        "Проверка, что необходимые пороги пройдены:"
      ]
    },
    {
      "cell_type": "code",
      "execution_count": null,
      "metadata": {
        "id": "h0D82xfkUntT",
        "colab": {
          "base_uri": "https://localhost:8080/"
        },
        "outputId": "bbef2dac-61bb-451a-a13e-c0c82a8f3d7e"
      },
      "outputs": [
        {
          "output_type": "stream",
          "name": "stdout",
          "text": [
            "Качество на тесте выше 0.6, 1 балл\n"
          ]
        }
      ],
      "source": [
        "if test_accuracy <= 0.5:\n",
        "    print(\"Качество на тесте ниже 0.5, 0 баллов\")\n",
        "elif test_accuracy < 0.6:\n",
        "    print(\"Качество на тесте между 0.5 и 0.6, 0.5 баллов\")\n",
        "elif test_accuracy >= 0.6:\n",
        "    print(\"Качество на тесте выше 0.6, 1 балл\")"
      ]
    },
    {
      "cell_type": "markdown",
      "metadata": {
        "id": "jaaib09bUntU"
      },
      "source": [
        "### Сдача задания\n",
        "В ячейке ниже реализован код для получения файла с обученной сетью. Запустите эти ячейки. Полученный файл model.pth отправьте в Я.Контест"
      ]
    },
    {
      "cell_type": "code",
      "execution_count": null,
      "metadata": {
        "id": "gnLPac1NUntV"
      },
      "outputs": [],
      "source": [
        "model.eval()\n",
        "x = torch.randn((1, 3, 32, 32))\n",
        "torch.jit.save(torch.jit.trace(model.cpu(), (x)), \"model.pth\")"
      ]
    },
    {
      "cell_type": "markdown",
      "metadata": {
        "id": "szdg0viDUntW"
      },
      "source": [
        "Теперь у вас во вкладке \"файлы\" лежит файл model.pth. Загрузите этот файл в Я.Контест. И на этом задание завершено. Поздравляем!"
      ]
    }
  ],
  "metadata": {
    "kernelspec": {
      "display_name": "Py3 Research",
      "language": "python",
      "name": "py3_research"
    },
    "language_info": {
      "codemirror_mode": {
        "name": "ipython",
        "version": 3
      },
      "file_extension": ".py",
      "mimetype": "text/x-python",
      "name": "python",
      "nbconvert_exporter": "python",
      "pygments_lexer": "ipython3",
      "version": "3.7.10"
    },
    "colab": {
      "provenance": [],
      "gpuType": "T4"
    },
    "accelerator": "GPU"
  },
  "nbformat": 4,
  "nbformat_minor": 0
}