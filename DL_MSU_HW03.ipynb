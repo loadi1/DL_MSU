{
  "cells": [
    {
      "cell_type": "markdown",
      "metadata": {
        "id": "i3UCQyok11Kb"
      },
      "source": [
        "## Домашнее задание №3\n",
        "\n",
        "##### Автор: [Татьяна Гайнцева](https://www.linkedin.com/in/tgaintseva/), @atmyre"
      ]
    },
    {
      "cell_type": "code",
      "execution_count": null,
      "metadata": {
        "id": "vD3-xv9t11Kd"
      },
      "outputs": [],
      "source": [
        "import numpy as np\n",
        "\n",
        "import torch\n",
        "from torch import nn\n",
        "from torch.nn import functional as F\n",
        "from tqdm.notebook import tqdm\n",
        "\n",
        "import torchvision\n",
        "from torchvision import datasets, transforms\n",
        "\n",
        "from matplotlib import pyplot as plt\n",
        "from IPython.display import clear_output"
      ]
    },
    {
      "cell_type": "markdown",
      "metadata": {
        "id": "kkZWrJ-r11Ke"
      },
      "source": [
        "## Задача №1:\n",
        "В этом задании мы будем решать задачу классификации картинок датасета CIFAR на 10 классов.\n",
        "\n"
      ]
    },
    {
      "cell_type": "markdown",
      "source": [
        "![alt text](https://miro.medium.com/v2/0*BdetXYemwXwOqNTs.jpg)"
      ],
      "metadata": {
        "id": "fXmSeZfr5US_"
      }
    },
    {
      "cell_type": "markdown",
      "source": [
        "Ваша задача — построить нейросеть для классификации картинок CIFAR и добиться качества классификации > 0.5. За основу можно брать код из ноутбука [третьего занятия](https://colab.research.google.com/drive/1wADBJAdbWbKEoZAmp0Tb-P5sqDKfIRa-?usp=sharing).\n",
        "\n",
        "В качестве решения в Я.Контест нужно будет отправить обученную модель. Код обучения модели и получения файла для отправки в Я.Контест реализованы ниже. Баллы выставляются следующим образом:\n",
        "- 0, если ваша модель получает accuracy < 0.5 на тестовой выборке;\n",
        "- 1, если ваша модель получает accuracy > 0.5 на тестовой выборке;\n",
        "\n",
        "Код для проверки качества модели на тестовой выборке есть ниже. Пожалуйста, перед отправкой решения в контест, убедитесь, что ваша модель получает нужное значение accuracy на тестовой выборке.\n",
        "\n",
        "Настоятельно рекомендуем написать код \"с нуля\", лишь поглядывая на пример, а не просто \"скопировать-вставить\". Это поможет вам в дальнейшем."
      ],
      "metadata": {
        "id": "wS7AcaXF4SBK"
      }
    },
    {
      "cell_type": "markdown",
      "source": [
        "### Загрузка данных"
      ],
      "metadata": {
        "id": "7_qQ4w_7-U5l"
      }
    },
    {
      "cell_type": "markdown",
      "source": [
        "Код для загрузки данных полностью реализован, ничего изменять не нужно.\n",
        "\n",
        "CIFAR10 — это датасет цветных картинок, поделенных на 10 классов. Среди картинок — изображения машин, самолетов, животных."
      ],
      "metadata": {
        "id": "efsA8oEl-Z_f"
      }
    },
    {
      "cell_type": "code",
      "execution_count": null,
      "metadata": {
        "id": "n4h9kNrd11Ke"
      },
      "outputs": [],
      "source": [
        "train_data = datasets.CIFAR10(root=\"./cifar10_data\", train=True, download=True, transform=transforms.ToTensor())\n",
        "test_data = datasets.CIFAR10(root=\"./cifar10_data\", train=False, download=True, transform=transforms.ToTensor())\n",
        "\n",
        "# разделим тренировочную выборку на train и val\n",
        "# в тренировочную выборку отнесем 80% всех картинок\n",
        "train_size = int(len(train_data) * 0.8)\n",
        "# в валидационную — остальные 20%\n",
        "val_size = len(train_data) - train_size\n",
        "\n",
        "train_data, val_data = torch.utils.data.random_split(train_data, [train_size, val_size])\n",
        "\n",
        "# заведем даталоадеры\n",
        "train_loader = torch.utils.data.DataLoader(train_data, batch_size=64, shuffle=True)\n",
        "val_loader = torch.utils.data.DataLoader(val_data, batch_size=64, shuffle=False)\n",
        "test_loader = torch.utils.data.DataLoader(test_data, batch_size=64, shuffle=False)"
      ]
    },
    {
      "cell_type": "markdown",
      "source": [
        "Посмотрим на несколько картинок, чтобы понять, с чем мы имеем дело. Для отрисовки десяти картинок тренировочного сета запустите ячейку ниже:"
      ],
      "metadata": {
        "id": "i2MdhX09Cx_1"
      }
    },
    {
      "cell_type": "code",
      "source": [
        "# эта функция отрисовывает несколько картинок\n",
        "def show_images(images, labels):\n",
        "    f, axes= plt.subplots(1, 10, figsize=(30,5))\n",
        "\n",
        "    for i, axis in enumerate(axes):\n",
        "        # переводим картинку из тензора в numpy\n",
        "        img = images[i].numpy()\n",
        "        # переводим картинку в размерность (длина, ширина, цветовые каналы)\n",
        "        img = np.transpose(img, (1, 2, 0))\n",
        "\n",
        "        axes[i].imshow(img)\n",
        "        axes[i].set_title(labels[i].numpy())\n",
        "\n",
        "    plt.show()\n",
        "\n",
        "# получаем батч картинок из train даталоадера\n",
        "for batch in train_loader:\n",
        "    # батч картинок и батч ответов к картинкам\n",
        "    images, labels = batch\n",
        "    break\n",
        "\n",
        "# вызываем функцию отрисовки картинок\n",
        "show_images(images, labels)"
      ],
      "metadata": {
        "id": "LhhNLhr79ItN"
      },
      "execution_count": null,
      "outputs": []
    },
    {
      "cell_type": "markdown",
      "source": [
        "Над каждой картинкой здесь написан номер класса, к которому она принадлежит.\n",
        "\n",
        "Таблица соответствий номеров ответов и классов:\n",
        "\n",
        "| Label        | Class           |\n",
        "| ------------- |:-------------:|\n",
        "| 0     | Самолет |\n",
        "| 1    | Автомобиль      |\n",
        "| 2 | Птица      |\n",
        "| 3 | Кошка      |\n",
        "| 4 | Олень      |\n",
        "| 5 | Собака      |\n",
        "| 6 | Лягушка     |\n",
        "| 7 | Лошадь     |\n",
        "| 8 | Корабль     |\n",
        "| 9 | Грузовик     |\n"
      ],
      "metadata": {
        "id": "3V3jm1fwD9Li"
      }
    },
    {
      "cell_type": "markdown",
      "source": [
        "Посмотрим, какого размера картинки:"
      ],
      "metadata": {
        "id": "MhuoI0yXF8Dm"
      }
    },
    {
      "cell_type": "code",
      "source": [
        "images.shape"
      ],
      "metadata": {
        "id": "SF8hlj8DF-B6"
      },
      "execution_count": null,
      "outputs": []
    },
    {
      "cell_type": "markdown",
      "source": [
        "Здесь 64 — размер батча, 3 — количество цветовых каналов (т.к. картинка цветная, RGB) 32 и 32 — ширина и высота картинки.\n",
        "\n",
        "Получается, каждая картинка представляется 32 * 32 * 3 = 3072 значениями. И в первом слое сети должно быть 3072 нейрона."
      ],
      "metadata": {
        "id": "jY_8NfV8F_Lj"
      }
    },
    {
      "cell_type": "markdown",
      "source": [
        "### Построение модели"
      ],
      "metadata": {
        "id": "RHTTl1E3EE4h"
      }
    },
    {
      "cell_type": "markdown",
      "metadata": {
        "id": "RZlPU2VL11Ke"
      },
      "source": [
        "Ваша задача — построить модель, и затем ее обучить. Пожалуйста, не стройте переусложненную сеть, не стоит делать ее глубже четырех слоев (можно и меньше). Ваша основная задача – обучить модель и получить хорошее качество на тестовой выборке.\n",
        "\n",
        "За основу можно взять код модели из ноутбука третьего занятия.\n",
        "Не забудьте, что количество нейронов первого слоя должно быть другим, не таким, как на занятии.\n",
        "\n",
        "**Что можно попробовать, чтобы улучшить качество модели:**\n",
        "- добавить больше скрытых слоев;\n",
        "- сделать больше нейронов в слоях;\n",
        "- добавить слои batchnorm.\n",
        "\n",
        "Слой батчнрм – BatchNorm1d (он импортирован в следующей ячейке). Этот слой применяется после полносвязного слоя. Пример:\n",
        "\n",
        "```\n",
        "def __init__(self):\n",
        "        ...\n",
        "        self.fc = nn.Linear(500, 100)\n",
        "        self.bn = BatchNorm1d(100)\n",
        "        ...\n",
        "\n",
        "def forward(self, x):\n",
        "        ...\n",
        "        x = F.relu(self.fc(x))\n",
        "        x = self.bn(x)\n",
        "        ...\n",
        "```\n",
        "\n",
        "Попробуйте вставить слой BatchNorm после каждого слоя сети (кроме последнего).\n",
        "\n",
        "Для успешной сдачи задания должно быть достаточно реализовать сеть с тремя слоями и BatchNorm между ними.\n",
        "    "
      ]
    },
    {
      "cell_type": "code",
      "source": [
        "# импортируем BatchNorm\n",
        "from torch.nn.modules.batchnorm import BatchNorm1d\n",
        "\n",
        "# Реализуйте модель.\n",
        "\n",
        "class Model(nn.Module):\n",
        "    def __init__(self):\n",
        "        <ВАШ КОД ТУТ>\n",
        "\n",
        "    def forward(self, x):\n",
        "        <ВАШ КОД ТУТ>"
      ],
      "metadata": {
        "id": "aasQZc-XEV8o"
      },
      "execution_count": null,
      "outputs": []
    },
    {
      "cell_type": "markdown",
      "source": [
        "Убедимся, что подключен GPU:"
      ],
      "metadata": {
        "id": "_hNfgyNBJPOj"
      }
    },
    {
      "cell_type": "code",
      "source": [
        "device = torch.device(\"cuda\" if torch.cuda.is_available() else \"cpu\")"
      ],
      "metadata": {
        "id": "ymWokX8sJLBQ"
      },
      "execution_count": null,
      "outputs": []
    },
    {
      "cell_type": "code",
      "source": [
        "device"
      ],
      "metadata": {
        "id": "opaY2GAyJOaO"
      },
      "execution_count": null,
      "outputs": []
    },
    {
      "cell_type": "code",
      "execution_count": null,
      "metadata": {
        "id": "9mEILJz611Kf"
      },
      "outputs": [],
      "source": [
        "# объявляем модель и переносим ее на GPU\n",
        "model = Model().to(device)"
      ]
    },
    {
      "cell_type": "markdown",
      "metadata": {
        "id": "wBxnaM0K11Kf"
      },
      "source": [
        "В ячейке ниже — тесты для проверки вашей модели. Если ячейка не выдает ошибки, то модель работает правильно."
      ]
    },
    {
      "cell_type": "code",
      "execution_count": null,
      "metadata": {
        "id": "mEL8hkEw11Kf"
      },
      "outputs": [],
      "source": [
        "assert model is not None, 'Переменная model пустая. Где же тогда ваша модель?'\n",
        "\n",
        "try:\n",
        "    x = images.reshape(-1, 3072).to(device)\n",
        "    y = labels\n",
        "\n",
        "    # compute outputs given inputs, both are variables\n",
        "    y_predicted = model(x)\n",
        "except Exception as e:\n",
        "    print('С моделью что-то не так')\n",
        "    raise e\n",
        "\n",
        "\n",
        "assert y_predicted.shape[-1] == 10, 'В последнем слое модели неверное количество нейронов'\n"
      ]
    },
    {
      "cell_type": "markdown",
      "source": [
        "### Обучение модели"
      ],
      "metadata": {
        "id": "PjQ2i6nCG7qq"
      }
    },
    {
      "cell_type": "markdown",
      "metadata": {
        "id": "dJwkYlxW11Kf"
      },
      "source": [
        "Теперь нужно обучить модель. Воспользуемся тем же кодом с семинарского ноутбука. Опять же, за основу можно брать код из [третьего занятия](https://colab.research.google.com/drive/1wADBJAdbWbKEoZAmp0Tb-P5sqDKfIRa-?usp=sharing). Код для оценки качества модели (функция evaluate) уже реализована, она такая же, как в ноутбуке [третьего занятия](https://colab.research.google.com/drive/1wADBJAdbWbKEoZAmp0Tb-P5sqDKfIRa-?usp=sharing)."
      ]
    },
    {
      "cell_type": "code",
      "source": [
        "from sklearn.metrics import accuracy_score\n",
        "\n",
        "def evaluate(model, dataloader, loss_fn):\n",
        "\n",
        "    y_pred_list = []\n",
        "    y_true_list = []\n",
        "    losses = []\n",
        "\n",
        "    # проходимся по батчам даталоадера\n",
        "    for i, batch in enumerate(tqdm(dataloader)):\n",
        "\n",
        "        # так получаем текущий батч\n",
        "        X_batch, y_batch = batch\n",
        "\n",
        "        # выключаем подсчет любых градиентов\n",
        "        with torch.no_grad():\n",
        "\n",
        "            # получаем ответы сети на батч\n",
        "            logits = model(X_batch.to(device))\n",
        "\n",
        "            # вычисляем значение лосс-функции на батче\n",
        "            loss = loss_fn(logits, y_batch.to(device))\n",
        "            loss = loss.item()\n",
        "\n",
        "            # сохраняем лосс на текущем батче в массив\n",
        "            losses.append(loss)\n",
        "\n",
        "            # для каждого элемента батча понимаем,\n",
        "            # к какому классу от 0 до 9 отнесла его сеть\n",
        "            y_pred = torch.argmax(logits, dim=1)\n",
        "\n",
        "        # сохраняем в массивы правильные ответы на текущий батч\n",
        "        # и ответы сети на текущий батч\n",
        "        y_pred_list.extend(y_pred.cpu().numpy())\n",
        "        y_true_list.extend(y_batch.numpy())\n",
        "\n",
        "    # считаем accuracy между ответам сети и правильными ответами\n",
        "    accuracy = accuracy_score(y_pred_list, y_true_list)\n",
        "\n",
        "    return accuracy, np.mean(losses)"
      ],
      "metadata": {
        "id": "I6uUKsD-HjKf"
      },
      "execution_count": null,
      "outputs": []
    },
    {
      "cell_type": "code",
      "source": [
        "def train(model, loss_fn, optimizer, n_epoch=6):\n",
        "\n",
        "    model.train(True)\n",
        "\n",
        "    data = {\n",
        "        'acc_train': [],\n",
        "        'loss_train': [],\n",
        "        'acc_val': [],\n",
        "        'loss_val': []\n",
        "    }\n",
        "\n",
        "    # цикл обучения сети\n",
        "    for epoch in tqdm(range(n_epoch)):\n",
        "\n",
        "        for i, batch in enumerate(tqdm(train_loader)):\n",
        "\n",
        "            # так получаем текущий батч картинок и ответов к ним\n",
        "            X_batch, y_batch = batch\n",
        "\n",
        "            # forward pass (получение ответов сети на батч картинок)\n",
        "            logits = model(X_batch.to(device))\n",
        "\n",
        "            # вычисление лосса от выданных сетью ответов и правильных ответов на батч\n",
        "            loss = loss_fn(logits, y_batch.to(device))\n",
        "\n",
        "            optimizer.zero_grad() # обнуляем значения градиентов оптимизаторв\n",
        "            loss.backward() # backpropagation (вычисление градиентов)\n",
        "            optimizer.step() # обновление весов сети\n",
        "\n",
        "        # конец эпохи, валидируем модель\n",
        "        print('On epoch end', epoch)\n",
        "\n",
        "        acc_train_epoch, loss_train_epoch = evaluate(model, train_loader, loss_fn)\n",
        "        print('Train acc:', acc_train_epoch, 'Train loss:', loss_train_epoch)\n",
        "\n",
        "        acc_val_epoch, loss_val_epoch = evaluate(model, val_loader, loss_fn)\n",
        "        print('Val acc:', acc_val_epoch, 'Val loss:', loss_val_epoch)\n",
        "\n",
        "\n",
        "        data['acc_train'].append(acc_train_epoch)\n",
        "        data['loss_train'].append(loss_train_epoch)\n",
        "        data['acc_val'].append(acc_val_epoch)\n",
        "        data['loss_val'].append(loss_val_epoch)\n",
        "\n",
        "    return model, data"
      ],
      "metadata": {
        "id": "5cbgjV1bLA6z"
      },
      "execution_count": null,
      "outputs": []
    },
    {
      "cell_type": "code",
      "source": [
        "# объявляем модель и переносим ее на GPU\n",
        "model = Model().to(device)\n",
        "\n",
        "# функция потерь\n",
        "loss_fn = torch.nn.CrossEntropyLoss()\n",
        "\n",
        "# оптимизатор\n",
        "learning_rate = 1e-3\n",
        "optimizer = torch.optim.Adam(model.parameters(), lr=learning_rate)"
      ],
      "metadata": {
        "id": "cDGyS_f0LG7Y"
      },
      "execution_count": null,
      "outputs": []
    },
    {
      "cell_type": "code",
      "source": [
        "model, data = train(model, loss_fn, optimizer, n_epoch=10)"
      ],
      "metadata": {
        "id": "ofe_11MaLEte"
      },
      "execution_count": null,
      "outputs": []
    },
    {
      "cell_type": "markdown",
      "source": [
        "### Оценка качества на тестовой выборке"
      ],
      "metadata": {
        "id": "eXRilb7qHqra"
      }
    },
    {
      "cell_type": "markdown",
      "metadata": {
        "id": "u55I8m5s11Kg"
      },
      "source": [
        "Оценим качество модели на тестовой выборке:"
      ]
    },
    {
      "cell_type": "code",
      "execution_count": null,
      "metadata": {
        "id": "Uzo5Gcec11Kg"
      },
      "outputs": [],
      "source": [
        "test_acc, test_loss = evaluate(model, test_loader, loss_fn)"
      ]
    },
    {
      "cell_type": "code",
      "source": [
        "test_acc"
      ],
      "metadata": {
        "id": "sCnMmtQCPhWr"
      },
      "execution_count": null,
      "outputs": []
    },
    {
      "cell_type": "markdown",
      "metadata": {
        "id": "hJM7iejs11Kg"
      },
      "source": [
        "Проверка, что необходимые пороги пройдены:"
      ]
    },
    {
      "cell_type": "code",
      "execution_count": null,
      "metadata": {
        "id": "JraQ-Liq11Kg"
      },
      "outputs": [],
      "source": [
        "assert test_acc >= 0.5, 'Accuracy на тесте >0.5! Можно сдавать задание'"
      ]
    },
    {
      "cell_type": "markdown",
      "metadata": {
        "id": "OvPoTosR11Kh"
      },
      "source": [
        "### Сдача задания\n",
        "В ячейке ниже реализован код для получения файла с обученной сетью. Запустите эти ячейки. Полученный файл model.pt отправьте в Я.Контест\n"
      ]
    },
    {
      "cell_type": "code",
      "execution_count": null,
      "metadata": {
        "id": "pK6XvfRN11Kh"
      },
      "outputs": [],
      "source": [
        "x = torch.randn((64, 32*32*3))\n",
        "torch.jit.save(torch.jit.trace(model.cpu(), (x)), \"model.pth\")"
      ]
    },
    {
      "cell_type": "markdown",
      "source": [
        "Теперь у вас во вкладке \"файлы\" лежит файл model.pth. Загрузите этот файл в Я.Контест. И на этом задание завершено. Поздравляем!"
      ],
      "metadata": {
        "id": "hvJ9N8jVaLRG"
      }
    },
    {
      "cell_type": "code",
      "source": [],
      "metadata": {
        "id": "c39d7wuW-921"
      },
      "execution_count": null,
      "outputs": []
    }
  ],
  "metadata": {
    "kernelspec": {
      "display_name": "Python 3",
      "name": "python3"
    },
    "language_info": {
      "name": "python"
    },
    "colab": {
      "provenance": []
    },
    "accelerator": "GPU",
    "gpuClass": "standard"
  },
  "nbformat": 4,
  "nbformat_minor": 0
}