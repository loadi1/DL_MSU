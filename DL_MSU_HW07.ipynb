{
  "cells": [
    {
      "cell_type": "markdown",
      "metadata": {
        "id": "FszmDROF12gL"
      },
      "source": [
        "## Домашнее задание №7\n",
        "### Генерация поэзии с помощью нейронных сетей: шаг 1\n",
        "##### Авторы: [Радослав Нейчев](https://www.linkedin.com/in/radoslav-neychev/), Горохов Олег\n",
        "\n",
        "Ваша основная задача: научиться генерировать стихи с помощью простой рекуррентной нейронной сети (Vanilla RNN). В качестве корпуса текстов для обучения будет выступать роман в стихах \"Евгений Онегин\" Александра Сергеевича Пушкина."
      ]
    },
    {
      "cell_type": "code",
      "execution_count": null,
      "metadata": {
        "id": "VK6EUBMt12gN"
      },
      "outputs": [],
      "source": [
        "# Не меняйте блок кода ниже! Здесь указаны все необходимые import-ы\n",
        "# __________start of block__________\n",
        "import string\n",
        "import os\n",
        "from random import sample\n",
        "\n",
        "import numpy as np\n",
        "import torch, torch.nn as nn\n",
        "import torch.nn.functional as F\n",
        "\n",
        "from IPython.display import clear_output\n",
        "\n",
        "import matplotlib.pyplot as plt\n",
        "%matplotlib inline\n",
        "# __________end of block__________"
      ]
    },
    {
      "cell_type": "code",
      "execution_count": null,
      "metadata": {
        "id": "VEC9Irlo12gO",
        "colab": {
          "base_uri": "https://localhost:8080/"
        },
        "outputId": "c74096d5-bccd-400a-c8b8-057cb8da9097"
      },
      "outputs": [
        {
          "output_type": "stream",
          "name": "stdout",
          "text": [
            "cuda device is available\n"
          ]
        }
      ],
      "source": [
        "# Не меняйте блок кода ниже!\n",
        "# __________start of block__________\n",
        "device = torch.device('cuda') if torch.cuda.is_available() else torch.device('cpu')\n",
        "print('{} device is available'.format(device))\n",
        "# __________end of block__________"
      ]
    },
    {
      "cell_type": "markdown",
      "metadata": {
        "id": "MPenWOy01Ooa",
        "outputId": "a92e8e33-e009-4bd4-ac12-3b1b5e1cd3f2"
      },
      "source": [
        "#### 1. Загрузка данных."
      ]
    },
    {
      "cell_type": "code",
      "execution_count": null,
      "metadata": {
        "id": "OhD8UJzN12gP",
        "colab": {
          "base_uri": "https://localhost:8080/"
        },
        "outputId": "bf59a4f7-d310-4732-f2ef-b4a64abb9136"
      },
      "outputs": [
        {
          "output_type": "stream",
          "name": "stdout",
          "text": [
            "--2023-12-02 20:38:41--  https://raw.githubusercontent.com/MSUcourses/Data-Analysis-with-Python/main/Deep%20Learning/onegin_hw07.txt\n",
            "Resolving raw.githubusercontent.com (raw.githubusercontent.com)... 185.199.108.133, 185.199.109.133, 185.199.110.133, ...\n",
            "Connecting to raw.githubusercontent.com (raw.githubusercontent.com)|185.199.108.133|:443... connected.\n",
            "HTTP request sent, awaiting response... 200 OK\n",
            "Length: 262521 (256K) [text/plain]\n",
            "Saving to: ‘./onegin.txt’\n",
            "\n",
            "./onegin.txt        100%[===================>] 256.37K  --.-KB/s    in 0.02s   \n",
            "\n",
            "2023-12-02 20:38:42 (11.1 MB/s) - ‘./onegin.txt’ saved [262521/262521]\n",
            "\n"
          ]
        }
      ],
      "source": [
        "# do not change the code in the block below\n",
        "# __________start of block__________\n",
        "!wget https://raw.githubusercontent.com/MSUcourses/Data-Analysis-with-Python/main/Deep%20Learning/onegin_hw07.txt -O ./onegin.txt\n",
        "\n",
        "with open('onegin.txt', 'r') as iofile:\n",
        "    text = iofile.readlines()\n",
        "\n",
        "text = \"\".join([x.replace('\\t\\t', '').lower() for x in text]) # Убираем лишние символы табуляций, приводим все буквы к нижнему регистру\n",
        "# __________end of block__________"
      ]
    },
    {
      "cell_type": "markdown",
      "source": [
        "Выведем несколько первых символов входного текста. Видим, что символы табуляций удалены, буквы приведены к нижнему регистру. Символы \\n мы оставляем - чтобы научить сеть генерировать символ \\n, когда нужно перейти на новую строку."
      ],
      "metadata": {
        "id": "rR6n1UmvZ8DC"
      }
    },
    {
      "cell_type": "code",
      "source": [
        "text[:36]"
      ],
      "metadata": {
        "colab": {
          "base_uri": "https://localhost:8080/",
          "height": 36
        },
        "id": "ksrWh_hvZsY_",
        "outputId": "d5e41b20-2793-4a99-b844-976e250b9433"
      },
      "execution_count": null,
      "outputs": [
        {
          "output_type": "execute_result",
          "data": {
            "text/plain": [
              "'\\ni\\n\\n«мой дядя самых честных правил,\\n'"
            ],
            "application/vnd.google.colaboratory.intrinsic+json": {
              "type": "string"
            }
          },
          "metadata": {},
          "execution_count": 4
        }
      ]
    },
    {
      "cell_type": "markdown",
      "metadata": {
        "id": "XQYpmGfR_gJ8"
      },
      "source": [
        "#### 2. Построение словаря и предобработка текста\n",
        "В данном задании требуется построить языковую модель на уровне символов. Приведем весь текст к нижнему регистру и построим словарь из всех символов в доступном корпусе текстов. Также добавим технический токен `<sos>`."
      ]
    },
    {
      "cell_type": "code",
      "execution_count": null,
      "metadata": {
        "id": "FyYTS2kC12gQ",
        "colab": {
          "base_uri": "https://localhost:8080/"
        },
        "outputId": "a1e965d0-67df-4fec-f0ca-82c7ec842322"
      },
      "outputs": [
        {
          "output_type": "stream",
          "name": "stdout",
          "text": [
            "Seems fine!\n"
          ]
        }
      ],
      "source": [
        "# Не меняйте блок кода ниже!\n",
        "# __________start of block__________\n",
        "tokens = sorted(set(text.lower())) + ['<sos>'] # Строим множество всех токенов-символов и добавляем к нему служебный токен <sos>\n",
        "num_tokens = len(tokens)\n",
        "\n",
        "assert num_tokens == 84, \"Check the tokenization process\"\n",
        "\n",
        "token_to_idx = {x: idx for idx, x in enumerate(tokens)} # Строим словарь с ключами-токенами и значениями-индексами в списке токенов\n",
        "idx_to_token = {idx: x for idx, x in enumerate(tokens)} # Строим обратный словарь (чтобы по индексу можно было получить токен)\n",
        "\n",
        "assert len(tokens) == len(token_to_idx), \"Mapping should be unique\"\n",
        "\n",
        "print(\"Seems fine!\")\n",
        "\n",
        "\n",
        "text_encoded = [token_to_idx[x] for x in text]\n",
        "# __________end of block__________"
      ]
    },
    {
      "cell_type": "markdown",
      "metadata": {
        "id": "ITona8rr12gQ"
      },
      "source": [
        "__Ваша задача__: обучить классическую рекуррентную нейронную сеть (Vanilla RNN) предсказывать следующий символ на полученном корпусе текстов и сгенерировать последовательность длины 100 для фиксированной начальной фразы.\n",
        "\n",
        "Вы можете воспользоваться кодом с занятия №6 или же обратиться к следующим ссылкам:\n",
        "* Замечательная статья за авторством Andrej Karpathy об использовании RNN: [link](http://karpathy.github.io/2015/05/21/rnn-effectiveness/)\n",
        "* Пример char-rnn от Andrej Karpathy: [github repo](https://github.com/karpathy/char-rnn)\n",
        "* Замечательный пример генерации поэзии Шекспира: [github repo](https://github.com/spro/practical-pytorch/blob/master/char-rnn-generation/char-rnn-generation.ipynb)\n",
        "\n",
        "Данное задание является достаточно творческим. Не страшно, если поначалу оно вызывает затруднения. Последняя ссылка в списке выше может быть особенно полезна в данном случае.\n",
        "\n",
        "Далее для вашего удобства реализована функция, которая генерирует случайный батч размера `batch_size` из строк длиной `seq_length`. Вы можете использовать его при обучении модели."
      ]
    },
    {
      "cell_type": "code",
      "execution_count": null,
      "metadata": {
        "id": "B1R2KoN212gQ"
      },
      "outputs": [],
      "source": [
        "# Не меняйте код ниже\n",
        "# __________start of block__________\n",
        "batch_size = 256 # Размер батча. Батч - это набор последовательностей символов.\n",
        "seq_length = 100 # Максимальная длина одной последовательности символов в батче\n",
        "start_column = np.zeros((batch_size, 1), dtype=int) + token_to_idx['<sos>'] # Добавляем в начало каждой строки технический символ - для определения начального состояния сети\n",
        "\n",
        "def generate_chunk():\n",
        "    global text_encoded, start_column, batch_size, seq_length\n",
        "\n",
        "    start_index = np.random.randint(0, len(text_encoded) - batch_size*seq_length - 1) # Случайным образом выбираем индекс начального символа в батче\n",
        "    # Строим непрерывный батч.\n",
        "    # Для этого выбираем в исходном тексте подпоследовательность, которая начинается с индекса start_index и имеет размер batch_size*seq_length.\n",
        "    # Затем мы делим эту подпоследовательность на batch_size последовательностей размера seq_length. Это и будет батч, матрица размера batch_size*seq_length.\n",
        "    # В каждой строке матрицы будут указаны индексы\n",
        "    data = np.array(text_encoded[start_index:start_index + batch_size*seq_length]).reshape((batch_size, -1))\n",
        "    yield np.hstack((start_column, data))\n",
        "# __________end of block__________"
      ]
    },
    {
      "cell_type": "markdown",
      "metadata": {
        "id": "SHohQt0V12gR"
      },
      "source": [
        "Пример батча:"
      ]
    },
    {
      "cell_type": "code",
      "execution_count": null,
      "metadata": {
        "id": "jyuWYgeZ12gR",
        "outputId": "1ba48787-45c0-4bdb-e43a-8e381c099994",
        "colab": {
          "base_uri": "https://localhost:8080/"
        }
      },
      "outputs": [
        {
          "output_type": "execute_result",
          "data": {
            "text/plain": [
              "array([[83, 59, 48, ..., 45, 56,  1],\n",
              "       [83, 62, 50, ...,  1, 62, 63],\n",
              "       [83, 59, 56, ..., 59, 63, 59],\n",
              "       ...,\n",
              "       [83, 50, 14, ..., 58, 76, 63],\n",
              "       [83, 58, 45, ..., 40, 38, 26],\n",
              "       [83,  0,  0, ..., 45, 63, 73]])"
            ]
          },
          "metadata": {},
          "execution_count": 57
        }
      ],
      "source": [
        "next(generate_chunk())"
      ]
    },
    {
      "cell_type": "markdown",
      "metadata": {
        "id": "MZ5vfEKM12gS"
      },
      "source": [
        "Далее вам предстоит написать код для обучения модели и генерации текста."
      ]
    },
    {
      "cell_type": "code",
      "source": [
        "import torch\n",
        "import torch.nn as nn\n",
        "from torch.autograd import Variable"
      ],
      "metadata": {
        "id": "CJaewF6SSEq9"
      },
      "execution_count": null,
      "outputs": []
    },
    {
      "cell_type": "code",
      "execution_count": null,
      "metadata": {
        "id": "7XBmwWxp12gS"
      },
      "outputs": [],
      "source": [
        "class CharRNNLoop(nn.Module):\n",
        "    def __init__(self, num_tokens=num_tokens, emb_size=16, rnn_num_units=64):\n",
        "        super(self.__class__, self).__init__()\n",
        "        self.emb = nn.Embedding(num_tokens, emb_size)\n",
        "        self.rnn = nn.RNN(emb_size, rnn_num_units, batch_first=True)\n",
        "        self.hid_to_logits = nn.Linear(rnn_num_units, num_tokens)\n",
        "\n",
        "    def forward(self, x):\n",
        "        h_seq, _ = self.rnn(self.emb(x))\n",
        "        next_logits = self.hid_to_logits(h_seq)\n",
        "        return next_logits"
      ]
    },
    {
      "cell_type": "code",
      "source": [
        "model = CharRNNLoop()\n",
        "opt = torch.optim.Adam(model.parameters())\n",
        "criterion = nn.NLLLoss()"
      ],
      "metadata": {
        "id": "9AaenCHGf_Oq"
      },
      "execution_count": null,
      "outputs": []
    },
    {
      "cell_type": "code",
      "source": [
        "batch_ix = next(generate_chunk())\n",
        "batch_ix = torch.LongTensor(batch_ix)\n",
        "\n",
        "logits = model(batch_ix)"
      ],
      "metadata": {
        "id": "m-lsqTbRkxvn"
      },
      "execution_count": null,
      "outputs": []
    },
    {
      "cell_type": "code",
      "source": [
        "logits.shape"
      ],
      "metadata": {
        "colab": {
          "base_uri": "https://localhost:8080/"
        },
        "id": "v42FkOjUk9rE",
        "outputId": "d18e9197-9a98-436b-f5ef-1debdbbce476"
      },
      "execution_count": null,
      "outputs": [
        {
          "output_type": "execute_result",
          "data": {
            "text/plain": [
              "torch.Size([256, 101, 84])"
            ]
          },
          "metadata": {},
          "execution_count": 59
        }
      ]
    },
    {
      "cell_type": "code",
      "source": [
        "MAX_LENGTH = 16\n",
        "history = []\n",
        "\n",
        "for i in range(10000):                                                             # всего 1000 итераций\n",
        "\n",
        "    batch_ix = next(generate_chunk())\n",
        "    batch_ix = torch.LongTensor(batch_ix)\n",
        "\n",
        "    logits = model(batch_ix)                                                   # получили последовательность logp\n",
        "\n",
        "    # Считаем loss\n",
        "    predictions_logp = F.log_softmax(logits[:, :-1], dim=-1)\n",
        "    actual_next_tokens = batch_ix[:, 1:]\n",
        "\n",
        "    loss = criterion(\n",
        "        predictions_logp.contiguous().view(-1, num_tokens),\n",
        "        actual_next_tokens.contiguous().view(-1)\n",
        "    )\n",
        "\n",
        "    # Обучение методов backprop\n",
        "    loss.backward()                                                               # посчитали градиенты\n",
        "    opt.step()\n",
        "    opt.zero_grad()                                                                  # сделали шаг\n",
        "\n",
        "    # код отрисовки графика\n",
        "    history.append(loss.item())\n",
        "    if (i+1)%100==0:                                                              # на каждом сотом шаге обновляем график\n",
        "        clear_output(True)\n",
        "        plt.plot(history,label='loss')\n",
        "        plt.legend()\n",
        "        plt.show()\n",
        "\n",
        "assert np.mean(history[:10]) > np.mean(history[-10:]), \"RNN didn't converge.\"     # проверяем, что среднее значение за последние 10 шагов больше\n",
        "                                                                                  # среднего значения за первые 10 шагов (если нет – модель не сошлась)"
      ],
      "metadata": {
        "colab": {
          "base_uri": "https://localhost:8080/",
          "height": 430
        },
        "id": "sfP3JAd5lDMC",
        "outputId": "299bb293-6b5c-4e76-cab4-2b013db2e9d0"
      },
      "execution_count": null,
      "outputs": [
        {
          "output_type": "display_data",
          "data": {
            "text/plain": [
              "<Figure size 640x480 with 1 Axes>"
            ],
            "image/png": "[encoded data removed]"
          },
          "metadata": {}
        }
      ]
    },
    {
      "cell_type": "markdown",
      "metadata": {
        "id": "YOq8SszD12gS"
      },
      "source": [
        "В качестве иллюстрации ниже доступен график значений функции потерь, построенный в ходе обучения авторской сети (сам код для ее обучения вам и предстоит написать)."
      ]
    },
    {
      "cell_type": "code",
      "execution_count": null,
      "metadata": {
        "id": "p1DVfcmS12gS",
        "outputId": "4cac4ac1-85ce-4088-e67b-5d422008408c"
      },
      "outputs": [
        {
          "data": {
            "image/png": "[encoded data removed]",
            "text/plain": [
              "<Figure size 432x288 with 1 Axes>"
            ]
          },
          "metadata": {
            "needs_background": "light"
          },
          "output_type": "display_data"
        }
      ],
      "source": []
    },
    {
      "cell_type": "markdown",
      "metadata": {
        "id": "aPLGR7Wz12gS"
      },
      "source": [
        "Шаблон функции `generate_sample` также доступен ниже. Вы можете как дозаполнить его, так и написать свою собственную функцию с нуля. Не забывайте, что все примеры в обучающей выборке начинались с токена `<sos>`."
      ]
    },
    {
      "cell_type": "code",
      "execution_count": null,
      "metadata": {
        "id": "e7ZX-JGi12gS"
      },
      "outputs": [],
      "source": [
        "def generate_sample(char_rnn, seed_phrase=None, max_length=200, temperature=1.0):\n",
        "    '''\n",
        "    The function generates text given a phrase of length at least SEQ_LENGTH.\n",
        "    :param seed_phrase: prefix characters. The RNN is asked to continue the phrase\n",
        "    :param max_length: maximum output length, including seed_phrase\n",
        "    :param temperature: coefficient for sampling.  higher temperature produces more chaotic outputs,\n",
        "                        smaller temperature converges to the single most likely output\n",
        "    '''\n",
        "\n",
        "    if seed_phrase is not None:\n",
        "        x_sequence = [token_to_idx['<sos>']] + [token_to_idx[token] for token in seed_phrase]\n",
        "    else:\n",
        "        x_sequence = [token_to_idx['<sos>']]\n",
        "\n",
        "    x_sequence = torch.LongTensor([x_sequence])\n",
        "\n",
        "    #start generating\n",
        "    for _ in range(max_length - len(seed_phrase)):\n",
        "        logits = model(x_sequence)                                                # новое скрытое состояние и логит для след токена - это\n",
        "                                                                                  # последний элемент последовательности и текущее скрытое состояние\n",
        "        p_next = F.softmax(logits / temperature, dim=-1).data.numpy()[0][-1]      # считаем вероятность: softmax от текущих логитов\n",
        "                                                                                  # temperature отвечает за случайность (гиперпараметр)\n",
        "\n",
        "        # sample next token and push it back into x_sequence\n",
        "        next_ix = np.random.choice(num_tokens,p=p_next)                           # из всех токенов с распределением p_next\n",
        "        next_ix = torch.LongTensor([[next_ix]])\n",
        "        x_sequence = torch.cat([x_sequence, next_ix], dim=1)                      # добавляем к последовательности\n",
        "\n",
        "    return ''.join([tokens[ix] for ix in x_sequence.data.numpy()[0]])"
      ]
    },
    {
      "cell_type": "markdown",
      "metadata": {
        "id": "if0Zdsq_12gS"
      },
      "source": [
        "Пример текста сгенерированного обученной моделью доступен ниже. Не страшно, что в тексте много несуществующих слов. Используемая модель очень проста: это простая классическая RNN."
      ]
    },
    {
      "cell_type": "code",
      "execution_count": null,
      "metadata": {
        "id": "yF-Iuqmw12gS",
        "outputId": "39d3e8b8-4295-4026-be03-92c003046817",
        "colab": {
          "base_uri": "https://localhost:8080/"
        }
      },
      "outputs": [
        {
          "output_type": "stream",
          "name": "stdout",
          "text": [
            "<sos> мой дядя самых честных правиленье сон подлива старой в ней как подля в семья полебной сказались возменит не странный соседой,\n",
            "еще подругом,\n",
            "она в ней своей сердце стариной,\n",
            "и молчали он вестит без слова родной страк далит\n",
            "и молодить потом как в полно в ней татьяна за забовь поро взор и дева.\n",
            "но в нет не заменилась и под полоред страсти она в простой\n",
            "в голово молчались не заменилась он привлества в то же скорой за с сердце потом подругом свои на предам весерь всех и подов не в делый подетой внут\n"
          ]
        }
      ],
      "source": [
        "print(generate_sample(model, ' мой дядя самых честных правил', max_length=500, temperature=0.4))"
      ]
    },
    {
      "cell_type": "markdown",
      "metadata": {
        "id": "YwFvHiKP12gS"
      },
      "source": [
        "### Сдача задания\n",
        "Сгенерируйте десять последовательностей длиной 500, используя строку ' мой дядя самых честных правил'. Температуру для генерации выберите самостоятельно на основании визуального качества генериуремого текста. Не забудьте удалить все технические токены в случае их наличия.\n",
        "\n",
        "Сгенерированную последовательность сохрание в переменную `generated_phrase` и сдайте сгенерированный ниже файл в контест."
      ]
    },
    {
      "cell_type": "code",
      "execution_count": null,
      "metadata": {
        "id": "sB5p9j9T12gT"
      },
      "outputs": [],
      "source": [
        "seed_phrase = ' мой дядя самых честных правил'"
      ]
    },
    {
      "cell_type": "code",
      "execution_count": null,
      "metadata": {
        "id": "Qe9T5-Op12gT"
      },
      "outputs": [],
      "source": [
        "\n",
        "\n",
        "# For example:\n",
        "\n",
        "generated_phrases = [\n",
        "    generate_sample(\n",
        "        model,\n",
        "        ' мой дядя самых честных правил',\n",
        "        max_length=500,\n",
        "        temperature=1.\n",
        "    ).replace('<sos>', '')\n",
        "    for _ in range(10)\n",
        "]"
      ]
    },
    {
      "cell_type": "code",
      "source": [
        "generated_phrases"
      ],
      "metadata": {
        "id": "n8sPsOYDtZje",
        "outputId": "6f13e329-e4fc-42af-dc62-f23b56c70e1a",
        "colab": {
          "base_uri": "https://localhost:8080/"
        }
      },
      "execution_count": null,
      "outputs": [
        {
          "output_type": "execute_result",
          "data": {
            "text/plain": [
              "[' мой дядя самых честных правилой,\\nномых пределзай страшнеть вспоселея глядой; сончива дину подо нашею сердяжны своей ветрене…\\n\\n\\n\\nxxxvi\\n\\nна струю совет.  и душно,\\nмосчу оклы тенко.\\n«как месвдивы,\\nв старрого поду кани!» —\\n\\n\\n\\nxv\\n\\nее мед:\\nкукою.\\nевгению дай!»\\nпод нагда это любы бут, охнежный меня ждой\\nкогда,\\nзажным горит,\\nко грандашоне ужель\\nи олыцу муждел\\nоне смерты,\\nсолова.\\nты в вгробовно то танбой,\\nи авкумел ни чаза:\\nвосый зожабий и пред намекок,\\nно мечты,\\nи жилы;\\nно нестак именили зденьем породи',\n",
              " ' мой дядя самых честных правилик бегие все (что ж вале\\nсердца тоскренье,\\nв полуршисные говорит.\\nоблезних кехотали болобов,\\nи табочал\\nпредля,\\nвось…\\nне сием,\\nи его прислачи онов на воспет молвала,\\nдалов.\\nонегин, и неногда бурнонных\\nподы покомут для иль, я осмоя шсавсе г нет, a€, жалы;\\nкот?\\nвста гоститой, мне хлажитальсе пошло где умляты вернек свяясну. занямо,\\nсогласят не скука вослыцу\\nпримадави далена.\\n«о вдрыги в вздощены, улмила\\nдетать:\\nони небой пулыхори…\\nлюбой,\\nуркит осквольно землил.. какой ',\n",
              " ' мой дядя самых честных правилаят\\nне тиши\\nявиц\\nдывады\\nтак утрош, девне, вот пройде надела.\\nно —\\nи нелонов,\\nдражился как скотой,\\nзпачитасенаетствалася упятнилил. вызваслие, незнетути ведит пошлуй читий,\\nи недавостинрюдо вогореня тести в:\\nодно,\\nславую гла поворово в шерты,\\nуж сердце то жижал,\\nноснил юняща\\nв застать доскимо сняк, но медрен;\\nи бородь зале суе пошло глядный несурдые прият, —\\nгоро волечный пой кальный харбину гробыгка нежденные в говорит\\nи я, несум, кипя повель благорсят:. читати,\\nкот',\n",
              " ' мой дядя самых честных правилась так лицеки\\nи так!\\nее быроя.\\n\\n\\n\\nxl-\\nизлеский подянылоской\\nпостал: что он,\\nи т души,\\nзакончеи нажельк\\nкак тнаем что бранил:\\nи ты, конегался боли,\\nи жидов:, в музем рока\\nи снова как ходлицуем\\nдевну снигилсцку –е гостаков.\\n\\n\\n\\nxvi\\n\\nно страшую и мучит свырчитась такди первый внут где спетая на врупь, нюo утро тоит».\\nу погунназивать».\\nзаверал,\\nбыть, то тейда, прихотит ленстывать:\\nновый влюбой.\\n\\n\\n\\nxxxvii\\n\\nтатьяна горо и, холом прочанья!\\nтапор уберь,\\nперек; раздут я прим',\n",
              " ' мой дядя самых честных правила чашы перень, скыраму был и ж\\nего; с саламя крас, взор\\nпильба желым\\nнадежде хот:\\nвладит онмы,\\nтак и своего\\nвсё,\\nчтах ей,\\nи волмо,\\nи укого обила полубенной иль в главым линной.\\nфущено.\\nдва няняся гочене,\\nв меж коне\\nзаблаза встрю перо соле стешаюдала,\\nез я крево ли к нейкубя нежнос поднить буреняят, не взягомый пескую онастольность снегу пороным слагая ль? выгиему был питый зви их трань,\\nтайно:\\nи зала…\\nчтлободном чуть мыстражков\\nкогда не прод татьяна датькой сидичилк',\n",
              " ' мой дядя самых честных правила и с что-ба вы патницы.\\nlantes. – длун сиетренно, в она алет мон!»\\nна то быларать.\\nи светый\\nи пописла она восуждем езви сказали тарся, накорышеленый\\n«лак ей.\\n«как в соблда он лигая счав безврано готина,\\nлюбилминые взоль,\\nдруги.\\nно в ба руков хлянки в итузник судько,\\nсвет… пренит дровых тобой ко эе бувей\\nвзор замы двоз в ль перо измерять славит.\\n\\n\\n\\nxvi\\n\\nгуясь,\\nчто скоссину,\\nи прощал,\\nотвидка умлать,\\nкогда, врусся свостней\\nи и ятипых своейшене, в тущество утеро: раст',\n",
              " ' мой дядя самых честных правильных\\nтескот;\\nвот сохадтов, бозманает все к не дохомян child;\\nи не мезем.\\nнесет люболь; но умелнца» —\\n«друд карисе,\\nдусал\\nпопоряда.\\nназлукое?\\nбы мой сротных ленину на вдрузыми,\\nкак где-то нет астрогрей».\\nдеманье,\\nтому ем.\\n\\n\\n\\nxxxv\\n\\nно блестит, ничало вечит простречной больды биры:\\nхучал в ты мнет, не в редной.\\nно поро\\nпроснился не шепевинствит двусчен крас старые конов. – (безени,\\nпонир перельным горада, не от дерекла.\\nитояла безына\\nи где стануть,\\nв длавь\\nна кутывечий',\n",
              " ' мой дядя самых честных правила\\nа до гетеры что нина завирь моячная,\\nи, кругац свои с нали деренья тверзою долстоеном,\\nа душлю: не горской обвово потомляны,\\nначанние ольгу лучный я очно-моски совцет вы-то?\\nшамный родной,\\nкак глупях не завотся;\\nкачине\\nгодой и просых, визойркам тако:\\nрыману;\\n(лопал,\\nпоствадает рад буля былие губянень.. тайдая журнов! хоть он,\\nв го\\nмой везбоство нагиць приходу\\nдна\\nон\\nглакон старой изв, ей.\\n\\n\\n\\nxliii\\n\\nтакая породный черцый усерзи другиек,\\nисан.\\n(моявкою вы,у пристал:',\n",
              " ' мой дядя самых честных правили; слуда; крас.\\nи тану соседяжно\\nзвучно окновь\\nспит вселину скачали\\nи шере зна от.\\nзденные farez… —\\nв проз вспобного срезел.\\n\\n\\n\\nxi\\n\\nкражиси шум милы,\\nрастянмый зажеме\\nгерное\\nзатобоз-синят,\\nбы; очит…\\n\\n\\ni\\n\\nи, тездлавенной сову,\\nкаковатилиц.\\n\\n\\n\\nxxxiii\\n\\nона;\\nподованный зытом помникаю ленсты, тось окажет шажный);\\nвот знал ного ль чуким в крут, нил желаясь шаленно девал.\\nтита увъядлела,\\nзатомни бупестели, мой он думал?\\nбез риф глачемались в мивет чик глуке умник так вдруг',\n",
              " ' мой дядя самых честных правили правту, похозкрет нетушни требоватькие всех мной он внут февце альбом, чув сух за крема невину, дам потум своей сервают прездинки мире холя\\nзарзум сопу:\\nза ие ее когда казких мы рожит я) устековие ромивыхно безамные квонью,\\nтемновенной, знал, разкум, и младаи ком мнетош людкой амевх\\n\\n\\n\\nxxxii\\n\\nкак иль луны никогор!\\nя ленсвобмегин? тане был,\\nневодельным гости наставво,\\nно з любожки, поянийстью: пуданной;\\nпусто…\\nдучит:\\nдловлавица его бала снасто егодо письеда взвожа ']"
            ]
          },
          "metadata": {},
          "execution_count": 77
        }
      ]
    },
    {
      "cell_type": "code",
      "execution_count": null,
      "metadata": {
        "id": "kKTbJtIi12gT",
        "colab": {
          "base_uri": "https://localhost:8080/"
        },
        "outputId": "50119ee2-3b5e-41df-acff-95631eff9e51"
      },
      "outputs": [
        {
          "output_type": "stream",
          "name": "stdout",
          "text": [
            "File saved to `submission_dict_hw07.npy`\n"
          ]
        }
      ],
      "source": [
        "# do not change the code in the block below\n",
        "# __________start of block__________\n",
        "\n",
        "if 'generated_phrases' not in locals():\n",
        "    raise ValueError(\"Please, save generated phrases to `generated_phrases` variable\")\n",
        "\n",
        "for phrase in generated_phrases:\n",
        "\n",
        "    if not isinstance(phrase, str):\n",
        "        raise ValueError(\"The generated phrase should be a string\")\n",
        "\n",
        "    if len(phrase) != 500:\n",
        "        raise ValueError(\"The `generated_phrase` length should be equal to 500\")\n",
        "\n",
        "    assert all([x in set(tokens) for x in set(list(phrase))]), 'Unknown tokens detected, check your submission!'\n",
        "\n",
        "\n",
        "submission_dict = {\n",
        "    'token_to_idx': token_to_idx,\n",
        "    'generated_phrases': generated_phrases\n",
        "}\n",
        "\n",
        "np.save('submission_dict_hw07.npy', submission_dict, allow_pickle=True)\n",
        "print('File saved to `submission_dict_hw07.npy`')\n",
        "# __________end of block__________"
      ]
    },
    {
      "cell_type": "markdown",
      "metadata": {
        "id": "l7ONIO0612gT"
      },
      "source": [
        "На этом задание завершено. Поздравляем!"
      ]
    }
  ],
  "metadata": {
    "accelerator": "GPU",
    "anaconda-cloud": {},
    "colab": {
      "provenance": []
    },
    "kernelspec": {
      "display_name": "Py3 Research",
      "language": "python",
      "name": "py3_research"
    },
    "language_info": {
      "codemirror_mode": {
        "name": "ipython",
        "version": 3
      },
      "file_extension": ".py",
      "mimetype": "text/x-python",
      "name": "python",
      "nbconvert_exporter": "python",
      "pygments_lexer": "ipython3",
      "version": "3.7.10"
    }
  },
  "nbformat": 4,
  "nbformat_minor": 0
}